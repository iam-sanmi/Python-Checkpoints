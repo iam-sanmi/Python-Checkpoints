{
 "cells": [
  {
   "cell_type": "code",
   "execution_count": 3,
   "id": "f3505b40-af4e-4161-82b7-131229258aa9",
   "metadata": {},
   "outputs": [
    {
     "name": "stdout",
     "output_type": "stream",
     "text": [
      "Welcome to Python Pizza Deliveries\n"
     ]
    },
    {
     "name": "stdin",
     "output_type": "stream",
     "text": [
      "What size of Pizza will you like? L, M, S?:\n",
      " L\n",
      "Would you like pepperoni on your pizza? Type in Y for Yes and N for No:\n",
      " Y\n",
      "Would you like extra cheese on your pizza? Type in Y for Yes and N for No:\n",
      " N\n"
     ]
    },
    {
     "name": "stdout",
     "output_type": "stream",
     "text": [
      "Your final bill is: $28\n"
     ]
    }
   ],
   "source": [
    "print('Welcome to Python Pizza Deliveries')\n",
    "\n",
    "size = input('What size of Pizza will you like? L, M, S?:\\n').upper()\n",
    "\n",
    "if size not in ['L', 'M', 'S']:\n",
    "    print('You have entered the wrong input, please enter L, M, or S.')\n",
    "    exit()\n",
    "\n",
    "add_pepperoni = input('Would you like pepperoni on your pizza? Type in Y for Yes and N for No:\\n').upper() \n",
    "\n",
    "extra_cheese = input('Would you like extra cheese on your pizza? Type in Y for Yes and N for No:\\n').upper()\n",
    "\n",
    "bill = 0\n",
    "\n",
    "if size == 'L':\n",
    "    bill += 25\n",
    "\n",
    "elif size == 'M':\n",
    "    bill += 20\n",
    "\n",
    "elif size == 'S':\n",
    "    bill += 15\n",
    "\n",
    "else:\n",
    "    print('You have entered the wrong input, are you blind??')\n",
    "\n",
    "if add_pepperoni == 'Y':\n",
    "    if size == 'S':\n",
    "        bill += 2\n",
    "\n",
    "    elif size in ['M', 'L']:\n",
    "        bill += 3\n",
    "\n",
    "if extra_cheese == 'Y':\n",
    "    bill += 1\n",
    "\n",
    "print(f'Your final bill is: ${bill}')\n",
    "          "
   ]
  }
 ],
 "metadata": {
  "kernelspec": {
   "display_name": "Python [conda env:base] *",
   "language": "python",
   "name": "conda-base-py"
  },
  "language_info": {
   "codemirror_mode": {
    "name": "ipython",
    "version": 3
   },
   "file_extension": ".py",
   "mimetype": "text/x-python",
   "name": "python",
   "nbconvert_exporter": "python",
   "pygments_lexer": "ipython3",
   "version": "3.12.7"
  }
 },
 "nbformat": 4,
 "nbformat_minor": 5
}
