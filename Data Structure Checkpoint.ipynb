{
 "cells": [
  {
   "cell_type": "code",
   "execution_count": 5,
   "id": "b90abc94-423b-484d-881f-a7b67685f61f",
   "metadata": {},
   "outputs": [],
   "source": [
    "shopping_list = [] # To store the shopping items.."
   ]
  },
  {
   "cell_type": "code",
   "execution_count": 7,
   "id": "2d8be64b-a765-4214-ace7-0460f0c1130f",
   "metadata": {},
   "outputs": [],
   "source": [
    "max_items = 3  # Limit the number of items that can be added"
   ]
  },
  {
   "cell_type": "code",
   "execution_count": 11,
   "id": "14de0892-8336-40a7-b946-0ae7c17239a7",
   "metadata": {},
   "outputs": [
    {
     "name": "stdout",
     "output_type": "stream",
     "text": [
      "\n",
      "Shopping List Menu:\n",
      "1. Add item\n",
      "2. Remove item\n",
      "3. View list\n",
      "4. Exit\n"
     ]
    },
    {
     "name": "stdin",
     "output_type": "stream",
     "text": [
      "Enter your choice:   4\n"
     ]
    },
    {
     "name": "stdout",
     "output_type": "stream",
     "text": [
      "Invalid choice! Please enter 1, 2, 3, or 4.\n",
      "\n",
      "Shopping List Menu:\n",
      "1. Add item\n",
      "2. Remove item\n",
      "3. View list\n",
      "4. Exit\n"
     ]
    },
    {
     "name": "stdin",
     "output_type": "stream",
     "text": [
      "Enter your choice:  4\n"
     ]
    },
    {
     "name": "stdout",
     "output_type": "stream",
     "text": [
      "Exiting shopping list manager. Goodbye!\n"
     ]
    }
   ],
   "source": [
    "while True:\n",
    "    print(\"\\nShopping List Menu:\")\n",
    "    print(\"1. Add item\")\n",
    "    print(\"2. Remove item\")\n",
    "    print(\"3. View list\")\n",
    "    print(\"4. Exit\")\n",
    "    choice = input(\"Enter your choice: \")\n",
    "    \n",
    "    if choice == \"1\":  # Add item\n",
    "        if len(shopping_list) >= max_items:\n",
    "            print(\"Shopping list is full! You cannot add more items.\")\n",
    "            continue\n",
    "        for _ in range(max_items - len(shopping_list)):\n",
    "            item = input(\"Enter item to add: \").strip()\n",
    "            quantity = input(\"Enter quantity: \").strip()\n",
    "            if item:\n",
    "                shopping_list.append(item)\n",
    "                print(f\"{item} (x{quantity}) added to the shopping list.\")\n",
    "            else:\n",
    "                print(\"Invalid item!\")\n",
    "            \n",
    "\n",
    "    if choice == \"2\": # Remove item\n",
    "        item = input(\"Enter item to remove: \").strip()\n",
    "        if item in shopping_list:\n",
    "            print(f\"{item} removed from the shopping list.\")\n",
    "        else:\n",
    "            print(\"Item not found!\")\n",
    "\n",
    "    elif choice == \"3\":  # View list\n",
    "        if not shopping_list:\n",
    "            print(\"Shopping list is empty.\")\n",
    "        else:\n",
    "            print(\"\\nCurrent Shopping List:\")\n",
    "            for index in range(len(shopping_list)):\n",
    "                item = shopping_list[index]\n",
    "                print(f\"{index + 1}. {item} (x{quantity})\")\n",
    "\n",
    "    elif choice == \"4\":  # Exit\n",
    "        print(\"Exiting shopping list manager. Goodbye!\")\n",
    "        break\n",
    "    else:\n",
    "        print(\"Invalid choice! Please enter 1, 2, 3, or 4.\")\n"
   ]
  },
  {
   "cell_type": "code",
   "execution_count": null,
   "id": "e0e4ccac-a370-4d1e-adee-81697acd61d3",
   "metadata": {},
   "outputs": [],
   "source": []
  }
 ],
 "metadata": {
  "kernelspec": {
   "display_name": "Python [conda env:base] *",
   "language": "python",
   "name": "conda-base-py"
  },
  "language_info": {
   "codemirror_mode": {
    "name": "ipython",
    "version": 3
   },
   "file_extension": ".py",
   "mimetype": "text/x-python",
   "name": "python",
   "nbconvert_exporter": "python",
   "pygments_lexer": "ipython3",
   "version": "3.12.7"
  }
 },
 "nbformat": 4,
 "nbformat_minor": 5
}
