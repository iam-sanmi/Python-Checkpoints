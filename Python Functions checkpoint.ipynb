{
 "cells": [
  {
   "cell_type": "code",
   "execution_count": null,
   "id": "f109af24-f9d0-4bea-905d-ecea433e2eb6",
   "metadata": {},
   "outputs": [],
   "source": [
    "#Create four basic mathematical functions: 'add', 'subtract', 'multiply', and 'divide' that take in two numbers and return the result of the operation.\n",
    "\n",
    "def add(a, b):\n",
    "    \"\"\"Returns the sum of two numbers.\"\"\"\n",
    "    return a + b\n",
    "\n",
    "def subtract(a, b):\n",
    "    \"\"\"Returns the difference of two numbers.\"\"\"\n",
    "    return a - b\n",
    "\n",
    "def multiply(a, b):\n",
    "    \"\"\"Returns the product of two numbers.\"\"\"\n",
    "    return a * b\n",
    "\n",
    "def divide(a, b):\n",
    "    \"\"\"Returns the quotient of two numbers. Raises an error if dividing by zero.\"\"\"\n",
    "    if b == 0:\n",
    "        raise ValueError(\"Cannot divide by zero\")\n",
    "    return a / b\n",
    "\n",
    "# Create a dictionary 'operations' that assigns the functions to their corresponding operation symbols.\n",
    "\n",
    "# Dictionary mapping operation symbols to functions\n",
    "operations = {\n",
    "    '+': add,\n",
    "    '-': subtract,\n",
    "    '*': multiply,\n",
    "    '/': divide\n",
    "}\n",
    "\n",
    "# Create a function 'calculator' that prompts the user to input the first number.\n",
    "\n",
    "# Calculator function\n",
    "def calculator():\n",
    "    \"\"\"Runs a loop that allows the user to perform multiple calculations until they choose to exit.\"\"\"\n",
    "    num1 = float(input(\"Enter the first number: \"))\n",
    "    should_continue = True\n",
    "    \n",
    "    while should_continue:\n",
    "        print(\"Available operations:\")\n",
    "        for symbol in operations:\n",
    "            print(symbol)\n",
    "        \n",
    "        operation = input(\"Choose an operation: \")\n",
    "        if operation not in operations:\n",
    "            print(\"Invalid operation! Try again.\")\n",
    "            continue\n",
    "        \n",
    "        num2 = float(input(\"Enter the second number: \"))\n",
    "        \n",
    "        # Retrieve function and perform calculation\n",
    "        calculation_function = operations[operation]\n",
    "        answer = calculation_function(num1, num2)\n",
    "        \n",
    "        print(f\"{num1} {operation} {num2} = {answer}\")\n",
    "        \n",
    "        cont = input(\"Would you like to continue with this result? (yes/no): \").strip().lower()\n",
    "        if cont == 'yes':\n",
    "            num1 = answer  # Update num1 with the result\n",
    "        else:\n",
    "            should_continue = False\n",
    "            calculator()  # Restart the calculator\n",
    "    \n",
    "    print(\"Exiting calculator. Goodbye!\")\n"
   ]
  },
  {
   "cell_type": "code",
   "execution_count": 7,
   "id": "cb684726-73f9-47e0-a831-7dfd77d13fba",
   "metadata": {},
   "outputs": [],
   "source": [
    "#Create four basic mathematical functions: 'add', 'subtract', 'multiply', and 'divide' that take in two numbers and return the result of the operation.\n",
    "\n",
    "def add(a, b):\n",
    "    \"\"\"Returns the sum of two numbers.\"\"\"\n",
    "    return a + b\n",
    "print(add(10, 5))"
   ]
  },
  {
   "cell_type": "code",
   "execution_count": null,
   "id": "3d0552a3-314d-4c2f-a68b-0c25d550adb4",
   "metadata": {},
   "outputs": [],
   "source": [
    "def subtract(a, b):\n",
    "    \"\"\"Returns the difference of two numbers.\"\"\"\n",
    "    return a - b\n",
    "print(subtract(10, 5))"
   ]
  },
  {
   "cell_type": "code",
   "execution_count": null,
   "id": "4a6ddc94-e3ad-465c-8e56-123d0a6d2dac",
   "metadata": {},
   "outputs": [],
   "source": [
    "def multiply(a, b):\n",
    "    \"\"\"Returns the product of two numbers.\"\"\"\n",
    "    return a * b\n",
    "print(multiply(10, 5))"
   ]
  },
  {
   "cell_type": "code",
   "execution_count": null,
   "id": "6166d430-79ad-4b76-9345-76ea62b8b4d4",
   "metadata": {},
   "outputs": [],
   "source": [
    "def divide(a, b):\n",
    "    \"\"\"Returns the quotient of two numbers. Raises an error if dividing by zero.\"\"\"\n",
    "    if b == 0:\n",
    "        raise ValueError(\"Cannot divide by zero\")\n",
    "    return a / b\n",
    "print(divide(10, 5))"
   ]
  },
  {
   "cell_type": "code",
   "execution_count": null,
   "id": "e5819cb1-2bec-4f23-9327-3a1fa1837f05",
   "metadata": {},
   "outputs": [],
   "source": [
    "# Dictionary mapping operation symbols to functions\n",
    "operations = {\n",
    "    '+': add,\n",
    "    '-': subtract,\n",
    "    '*': multiply,\n",
    "    '/': divide\n",
    "}\n"
   ]
  },
  {
   "cell_type": "code",
   "execution_count": null,
   "id": "51ffaa38-cb8f-408b-80e5-2bfa230d120d",
   "metadata": {},
   "outputs": [],
   "source": [
    "def calculator():\n",
    "    \"\"\"Prompts the user to input the first number.\"\"\"\n",
    "    first_number = float(input(\"Enter the first number: \"))\n",
    "    print(f\"First number entered: {first_number}\")"
   ]
  },
  {
   "cell_type": "code",
   "execution_count": null,
   "id": "43864d09-3fe7-4d72-a54b-d14714f88e71",
   "metadata": {},
   "outputs": [],
   "source": [
    "print(\"Available operations:\")\n",
    "    for symbol in operations:\n",
    "        print(symbol)\n"
   ]
  },
  {
   "cell_type": "code",
   "execution_count": null,
   "id": "3642336a-cfc6-4d5d-8b08-5d75538861b4",
   "metadata": {},
   "outputs": [],
   "source": [
    "# Create a while loop that will continue to run until the user chooses to end the current calculation"
   ]
  },
  {
   "cell_type": "code",
   "execution_count": null,
   "id": "2e7b7540-de3c-4911-a7aa-d600378c9b03",
   "metadata": {},
   "outputs": [],
   "source": []
  },
  {
   "cell_type": "code",
   "execution_count": null,
   "id": "39690d06-1e43-4e65-ab0e-1a618c5711e9",
   "metadata": {},
   "outputs": [],
   "source": []
  }
 ],
 "metadata": {
  "kernelspec": {
   "display_name": "Python [conda env:base] *",
   "language": "python",
   "name": "conda-base-py"
  },
  "language_info": {
   "codemirror_mode": {
    "name": "ipython",
    "version": 3
   },
   "file_extension": ".py",
   "mimetype": "text/x-python",
   "name": "python",
   "nbconvert_exporter": "python",
   "pygments_lexer": "ipython3",
   "version": "3.12.7"
  }
 },
 "nbformat": 4,
 "nbformat_minor": 5
}
