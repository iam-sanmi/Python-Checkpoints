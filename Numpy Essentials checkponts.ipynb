{
 "cells": [
  {
   "cell_type": "code",
   "execution_count": null,
   "id": "3bbedab2-b389-4e21-bb2c-f3a6edf83511",
   "metadata": {},
   "outputs": [],
   "source": [
    "import numpy as np\n",
    "\n",
    "# Create the grades array\n",
    "grades = np.array([85, 90, 88, 92, 95, 80, 75, 98, 89, 83])\n",
    "\n",
    "# Calculate mean, median, and standard deviation\n",
    "mean_grade = np.mean(grades)\n",
    "median_grade = np.median(grades)\n",
    "std_deviation = np.std(grades)\n",
    "\n",
    "# Find maximum and minimum\n",
    "max_grade = np.max(grades)\n",
    "min_grade = np.min(grades)\n",
    "\n",
    "# Sort the grades in ascending order\n",
    "sorted_grades = np.sort(grades)\n",
    "\n",
    "# Index of the highest grade\n",
    "index_max = np.argmax(grades)\n",
    "\n",
    "# Count and percentage of grades above 90\n",
    "count_above_90 = np.sum(grades > 90)\n",
    "percent_above_90 = (count_above_90 / grades.size) * 100\n",
    "\n",
    "# Percentage of grades below 75\n",
    "percent_below_75 = (np.sum(grades < 75) / grades.size) * 100\n",
    "\n",
    "# Extract grades above 90\n",
    "high_performers = grades[grades > 90]\n",
    "\n",
    "# Extract grades above 75\n",
    "passing_grades = grades[grades > 75]\n",
    "\n",
    "# Print all results\n",
    "print(\"Grades:\", grades)\n",
    "print(\"Mean:\", mean_grade)\n",
    "print(\"Median:\", median_grade)\n",
    "print(\"Standard Deviation:\", std_deviation)\n",
    "print(\"Max Grade:\", max_grade)\n",
    "print(\"Min Grade:\", min_grade)\n",
    "print(\"Sorted Grades:\", sorted_grades)\n",
    "print(\"Index of Highest Grade:\", index_max)\n",
    "print(\"Number of Students Scoring Above 90:\", count_above_90)\n",
    "print(\"Percentage of Students Scoring Above 90:\", percent_above_90, \"%\")\n",
    "print(\"Percentage of Students Scoring Below 75:\", percent_below_75, \"%\")\n",
    "print(\"High Performers (Grades > 90):\", high_performers)\n",
    "print(\"Passing Grades (Grades > 75):\", passing_grades)\n"
   ]
  },
  {
   "cell_type": "code",
   "execution_count": null,
   "id": "2d3b21d8-d830-44ab-ad70-ebb25987b211",
   "metadata": {},
   "outputs": [],
   "source": []
  },
  {
   "cell_type": "code",
   "execution_count": null,
   "id": "76fdcc77-877f-4dfb-b2be-8bc0dc9466c6",
   "metadata": {},
   "outputs": [],
   "source": []
  },
  {
   "cell_type": "code",
   "execution_count": null,
   "id": "0288d724-508c-47a5-8831-7422f4c4c66e",
   "metadata": {},
   "outputs": [],
   "source": []
  }
 ],
 "metadata": {
  "kernelspec": {
   "display_name": "Python [conda env:base] *",
   "language": "python",
   "name": "conda-base-py"
  },
  "language_info": {
   "codemirror_mode": {
    "name": "ipython",
    "version": 3
   },
   "file_extension": ".py",
   "mimetype": "text/x-python",
   "name": "python",
   "nbconvert_exporter": "python",
   "pygments_lexer": "ipython3",
   "version": "3.12.7"
  }
 },
 "nbformat": 4,
 "nbformat_minor": 5
}
