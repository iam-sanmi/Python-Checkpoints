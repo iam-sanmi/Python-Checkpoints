{
 "cells": [
  {
   "cell_type": "code",
   "execution_count": 1,
   "id": "3ce40285-8dfe-4892-98c5-5179be457e91",
   "metadata": {},
   "outputs": [
    {
     "name": "stdout",
     "output_type": "stream",
     "text": [
      "Mean Loan Amount: 141.13029315960912\n",
      "Median Loan Amount: 125.0\n",
      "Standard Deviation of Loan Amount: 88.32614252677395\n"
     ]
    }
   ],
   "source": [
    "import numpy as np\n",
    "\n",
    "# Step 1: Open the file\n",
    "file = open(\"loan_prediction_dataset.csv\", \"r\") \n",
    "\n",
    "# Step 2: Read the data using numpy.genfromtxt\n",
    "data = np.genfromtxt(file, delimiter=',', dtype=None, encoding='utf-8', names=True)\n",
    "\n",
    "# Step 3: Close the file manually\n",
    "file.close()\n",
    "\n",
    "# Step 4: Extract the 'LoanAmount' column\n",
    "loan_amounts = data['LoanAmount']\n",
    "\n",
    "# Step 5: Clean missing or NaN values\n",
    "loan_amounts_clean = loan_amounts[~np.isnan(loan_amounts)]\n",
    "\n",
    "# Step 6: Perform statistical analysis\n",
    "mean_loan = np.mean(loan_amounts_clean)\n",
    "median_loan = np.median(loan_amounts_clean)\n",
    "std_loan = np.std(loan_amounts_clean)\n",
    "\n",
    "# Step 7: Print results\n",
    "print(f\"Mean Loan Amount: {mean_loan}\")\n",
    "print(f\"Median Loan Amount: {median_loan}\")\n",
    "print(f\"Standard Deviation of Loan Amount: {std_loan}\")\n"
   ]
  },
  {
   "cell_type": "code",
   "execution_count": null,
   "id": "032b3b8f-50bc-4790-a7be-772f915c603b",
   "metadata": {},
   "outputs": [],
   "source": []
  }
 ],
 "metadata": {
  "kernelspec": {
   "display_name": "Python [conda env:base] *",
   "language": "python",
   "name": "conda-base-py"
  },
  "language_info": {
   "codemirror_mode": {
    "name": "ipython",
    "version": 3
   },
   "file_extension": ".py",
   "mimetype": "text/x-python",
   "name": "python",
   "nbconvert_exporter": "python",
   "pygments_lexer": "ipython3",
   "version": "3.12.7"
  }
 },
 "nbformat": 4,
 "nbformat_minor": 5
}
