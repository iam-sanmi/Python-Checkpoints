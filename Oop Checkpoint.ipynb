{
 "cells": [
  {
   "cell_type": "code",
   "execution_count": 5,
   "id": "abc0103c-9325-4a99-8a5e-6747741e2d41",
   "metadata": {},
   "outputs": [],
   "source": [
    "class Account:\n",
    "    def __init__(self, account_number: str, account_balance: float, account_holder: str):\n",
    "        self.account_number = account_number\n",
    "        self.account_balance = account_balance\n",
    "        self.account_holder = account_holder\n",
    "\n",
    "    def deposit(self, amount: float):\n",
    "        \"\"\"Adds the specified amount to the account balance.\"\"\"\n",
    "        if amount > 0:\n",
    "            self.account_balance += amount\n",
    "            return f\"Deposited #{amount:.2f}. New Balance: #{self.account_balance:.2f}\"\n",
    "        return \"Invalid deposit amount.\"\n",
    "\n",
    "    def withdraw(self, amount: float):\n",
    "        \"\"\"Subtracts the specified amount from the account balance if sufficient funds exist.\"\"\"\n",
    "        if 0 < amount <= self.account_balance:\n",
    "            self.account_balance -= amount\n",
    "            return f\"Withdrew #{amount:.2f}. New Balance: #{self.account_balance:.2f}\"\n",
    "        return \"Insufficient funds or invalid amount.\"\n",
    "\n",
    "    def check_balance(self):\n",
    "        \"\"\"Returns the current account balance.\"\"\"\n",
    "        return f\"Current Balance: #{self.account_balance:.2f}\"\n",
    "\n",
    "    def display_account_info(self):\n",
    "        \"\"\"Displays account details.\"\"\"\n",
    "        return (f\"Account Holder: {self.account_holder}\\n\"\n",
    "                f\"Account Number: {self.account_number}\\n\"\n",
    "                f\"Account Balance: #{self.account_balance:.2f}\")\n",
    "\n"
   ]
  },
  {
   "cell_type": "code",
   "execution_count": 15,
   "id": "4c237676-e6c2-4117-bbed-c8df3bfe2bac",
   "metadata": {},
   "outputs": [
    {
     "name": "stdout",
     "output_type": "stream",
     "text": [
      "Account Holder: Amos Musa\n",
      "Account Number: 0123456789\n",
      "Account Balance: #20000.50\n",
      "Deposited #10500.00. New Balance: #30500.50\n",
      "Withdrew #7300.00. New Balance: #23200.50\n",
      "Current Balance: #23200.50\n"
     ]
    }
   ],
   "source": [
    "# Test sample\n",
    "\n",
    "    acc = Account(\"0123456789\", 20000.50, \"Amos Musa\")\n",
    "    print(acc.display_account_info())\n",
    "    print(acc.deposit(10500))\n",
    "    print(acc.withdraw(7300))\n",
    "    print(acc.check_balance())\n"
   ]
  }
 ],
 "metadata": {
  "kernelspec": {
   "display_name": "Python [conda env:base] *",
   "language": "python",
   "name": "conda-base-py"
  },
  "language_info": {
   "codemirror_mode": {
    "name": "ipython",
    "version": 3
   },
   "file_extension": ".py",
   "mimetype": "text/x-python",
   "name": "python",
   "nbconvert_exporter": "python",
   "pygments_lexer": "ipython3",
   "version": "3.12.7"
  }
 },
 "nbformat": 4,
 "nbformat_minor": 5
}
